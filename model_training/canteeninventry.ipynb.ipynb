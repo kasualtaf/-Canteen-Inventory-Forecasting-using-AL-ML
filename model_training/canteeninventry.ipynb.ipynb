{
 "cells": [
  {
   "cell_type": "markdown",
   "metadata": {
    "id": "rJyCGL39f_3R"
   },
   "source": [
    "# Step 1: Set Up Google Colab"
   ]
  },
  {
   "cell_type": "code",
   "execution_count": 27,
   "metadata": {
    "id": "WG642tlZejeU"
   },
   "outputs": [
    {
     "name": "stdout",
     "output_type": "stream",
     "text": [
      "Requirement already satisfied: pandas in c:\\users\\altaf\\appdata\\local\\programs\\python\\python311\\lib\\site-packages (2.2.3)\n",
      "Requirement already satisfied: scikit-learn in c:\\users\\altaf\\appdata\\local\\programs\\python\\python311\\lib\\site-packages (1.6.1)\n",
      "Requirement already satisfied: matplotlib in c:\\users\\altaf\\appdata\\local\\programs\\python\\python311\\lib\\site-packages (3.10.0)\n",
      "Requirement already satisfied: seaborn in c:\\users\\altaf\\appdata\\local\\programs\\python\\python311\\lib\\site-packages (0.13.2)\n",
      "Requirement already satisfied: numpy>=1.23.2 in c:\\users\\altaf\\appdata\\local\\programs\\python\\python311\\lib\\site-packages (from pandas) (1.26.4)\n",
      "Requirement already satisfied: python-dateutil>=2.8.2 in c:\\users\\altaf\\appdata\\local\\programs\\python\\python311\\lib\\site-packages (from pandas) (2.9.0.post0)\n",
      "Requirement already satisfied: pytz>=2020.1 in c:\\users\\altaf\\appdata\\local\\programs\\python\\python311\\lib\\site-packages (from pandas) (2025.1)\n",
      "Requirement already satisfied: tzdata>=2022.7 in c:\\users\\altaf\\appdata\\local\\programs\\python\\python311\\lib\\site-packages (from pandas) (2025.1)\n",
      "Requirement already satisfied: scipy>=1.6.0 in c:\\users\\altaf\\appdata\\local\\programs\\python\\python311\\lib\\site-packages (from scikit-learn) (1.15.2)\n",
      "Requirement already satisfied: joblib>=1.2.0 in c:\\users\\altaf\\appdata\\local\\programs\\python\\python311\\lib\\site-packages (from scikit-learn) (1.4.2)\n",
      "Requirement already satisfied: threadpoolctl>=3.1.0 in c:\\users\\altaf\\appdata\\local\\programs\\python\\python311\\lib\\site-packages (from scikit-learn) (3.5.0)\n",
      "Requirement already satisfied: contourpy>=1.0.1 in c:\\users\\altaf\\appdata\\local\\programs\\python\\python311\\lib\\site-packages (from matplotlib) (1.3.1)\n",
      "Requirement already satisfied: cycler>=0.10 in c:\\users\\altaf\\appdata\\local\\programs\\python\\python311\\lib\\site-packages (from matplotlib) (0.12.1)\n",
      "Requirement already satisfied: fonttools>=4.22.0 in c:\\users\\altaf\\appdata\\local\\programs\\python\\python311\\lib\\site-packages (from matplotlib) (4.56.0)\n",
      "Requirement already satisfied: kiwisolver>=1.3.1 in c:\\users\\altaf\\appdata\\local\\programs\\python\\python311\\lib\\site-packages (from matplotlib) (1.4.8)\n",
      "Requirement already satisfied: packaging>=20.0 in c:\\users\\altaf\\appdata\\local\\programs\\python\\python311\\lib\\site-packages (from matplotlib) (24.2)\n",
      "Requirement already satisfied: pillow>=8 in c:\\users\\altaf\\appdata\\local\\programs\\python\\python311\\lib\\site-packages (from matplotlib) (10.4.0)\n",
      "Requirement already satisfied: pyparsing>=2.3.1 in c:\\users\\altaf\\appdata\\local\\programs\\python\\python311\\lib\\site-packages (from matplotlib) (3.2.1)\n",
      "Requirement already satisfied: six>=1.5 in c:\\users\\altaf\\appdata\\local\\programs\\python\\python311\\lib\\site-packages (from python-dateutil>=2.8.2->pandas) (1.17.0)\n"
     ]
    },
    {
     "name": "stderr",
     "output_type": "stream",
     "text": [
      "DEPRECATION: Loading egg at c:\\users\\altaf\\appdata\\local\\programs\\python\\python311\\lib\\site-packages\\ninja-1.11.1.3-py3.11-win-amd64.egg is deprecated. pip 25.1 will enforce this behaviour change. A possible replacement is to use pip for package installation. Discussion can be found at https://github.com/pypa/pip/issues/12330\n"
     ]
    }
   ],
   "source": [
    "!pip install pandas scikit-learn matplotlib seaborn"
   ]
  },
  {
   "cell_type": "markdown",
   "metadata": {
    "id": "iAIU03hOgGNS"
   },
   "source": [
    "# Step 2: Upload & Load Dataset"
   ]
  },
  {
   "cell_type": "code",
   "execution_count": 19,
   "metadata": {
    "id": "gn0iJsVWfKEp"
   },
   "outputs": [
    {
     "name": "stdout",
     "output_type": "stream",
     "text": [
      "         Date  Ingredient  Stock_Available (kg/L)  Reorder_Level (kg/L)  \\\n",
      "0  2024-01-01  Vegetables                   27.74                  3.45   \n",
      "1  2024-01-02      Spices                   42.19                  6.66   \n",
      "2  2024-01-03    Oil/Ghee                   19.40                  5.37   \n",
      "3  2024-01-04      Spices                   45.30                  9.14   \n",
      "4  2024-01-05      Spices                   22.51                  8.54   \n",
      "\n",
      "   Purchase_Quantity (kg/L)  \n",
      "0                     10.73  \n",
      "1                     24.73  \n",
      "2                     23.28  \n",
      "3                     19.49  \n",
      "4                     26.88  \n"
     ]
    }
   ],
   "source": [
    "import pandas as pd\n",
    "\n",
    "# Use raw string (r\"\") to avoid escape character issues\n",
    "file_path = r\"C:\\Users\\altaf\\Downloads\\pulao_ingredients_500.csv\"\n",
    "\n",
    "# Load the dataset\n",
    "df = pd.read_csv(file_path)\n",
    "\n",
    "# Display first few rows\n",
    "print(df.head())\n"
   ]
  },
  {
   "cell_type": "markdown",
   "metadata": {
    "id": "W-WvotexgU15"
   },
   "source": [
    "# Step 3: Data Exploration & Preprocessing"
   ]
  },
  {
   "cell_type": "code",
   "execution_count": 20,
   "metadata": {
    "id": "lAWHV9mqfO5I"
   },
   "outputs": [
    {
     "name": "stdout",
     "output_type": "stream",
     "text": [
      "<class 'pandas.core.frame.DataFrame'>\n",
      "RangeIndex: 500 entries, 0 to 499\n",
      "Data columns (total 5 columns):\n",
      " #   Column                    Non-Null Count  Dtype  \n",
      "---  ------                    --------------  -----  \n",
      " 0   Date                      500 non-null    object \n",
      " 1   Ingredient                500 non-null    object \n",
      " 2   Stock_Available (kg/L)    500 non-null    float64\n",
      " 3   Reorder_Level (kg/L)      500 non-null    float64\n",
      " 4   Purchase_Quantity (kg/L)  500 non-null    float64\n",
      "dtypes: float64(3), object(2)\n",
      "memory usage: 19.7+ KB\n",
      "None\n",
      "Date                        0\n",
      "Ingredient                  0\n",
      "Stock_Available (kg/L)      0\n",
      "Reorder_Level (kg/L)        0\n",
      "Purchase_Quantity (kg/L)    0\n",
      "dtype: int64\n",
      "       Stock_Available (kg/L)  Reorder_Level (kg/L)  Purchase_Quantity (kg/L)\n",
      "count              500.000000            500.000000                500.000000\n",
      "mean                27.022160              6.069660                 20.061240\n",
      "std                 13.222507              2.353595                  5.806246\n",
      "min                  5.210000              2.050000                 10.100000\n",
      "25%                 15.042500              3.967500                 14.802500\n",
      "50%                 26.725000              6.155000                 20.375000\n",
      "75%                 38.640000              8.142500                 24.817500\n",
      "max                 49.990000              9.980000                 29.990000\n"
     ]
    }
   ],
   "source": [
    "# Show dataset information\n",
    "print(df.info())\n",
    "\n",
    "# Check for missing values\n",
    "print(df.isnull().sum())\n",
    "\n",
    "# Check basic statistics\n",
    "print(df.describe())\n",
    "\n"
   ]
  },
  {
   "cell_type": "markdown",
   "metadata": {
    "id": "_pc_3cfVgaBG"
   },
   "source": [
    "# Step 4: Data Visualization"
   ]
  },
  {
   "cell_type": "code",
   "execution_count": 21,
   "metadata": {
    "id": "6t6H0pw1fPzz"
   },
   "outputs": [
    {
     "data": {
      "image/png": "[encoded data removed]",
      "text/plain": [
       "<Figure size 800x500 with 1 Axes>"
      ]
     },
     "metadata": {},
     "output_type": "display_data"
    }
   ],
   "source": [
    "import matplotlib.pyplot as plt\n",
    "import seaborn as sns\n",
    "\n",
    "plt.figure(figsize=(8, 5))\n",
    "sns.scatterplot(x=df[\"Stock_Available (kg/L)\"], y=df[\"Purchase_Quantity (kg/L)\"])\n",
    "plt.xlabel(\"Stock Available (kg/L)\")\n",
    "plt.ylabel(\"Purchase Quantity (kg/L)\")\n",
    "plt.title(\"Stock vs Purchase Quantity\")\n",
    "plt.show()\n"
   ]
  },
  {
   "cell_type": "markdown",
   "metadata": {
    "id": "W4eHj0I_ggTz"
   },
   "source": [
    "# Step 5: Prepare Data for ML Model"
   ]
  },
  {
   "cell_type": "code",
   "execution_count": 22,
   "metadata": {
    "id": "uc8iSUyXfRsU"
   },
   "outputs": [
    {
     "name": "stdout",
     "output_type": "stream",
     "text": [
      "         Date  Ingredient  Stock_Available (kg/L)  Reorder_Level (kg/L)  \\\n",
      "0  2024-01-01           3                   27.74                  3.45   \n",
      "1  2024-01-02           2                   42.19                  6.66   \n",
      "2  2024-01-03           0                   19.40                  5.37   \n",
      "3  2024-01-04           2                   45.30                  9.14   \n",
      "4  2024-01-05           2                   22.51                  8.54   \n",
      "\n",
      "   Purchase_Quantity (kg/L)  \n",
      "0                     10.73  \n",
      "1                     24.73  \n",
      "2                     23.28  \n",
      "3                     19.49  \n",
      "4                     26.88  \n"
     ]
    }
   ],
   "source": [
    "from sklearn.preprocessing import LabelEncoder\n",
    "\n",
    "# Convert categorical column 'Ingredient' to numerical\n",
    "encoder = LabelEncoder()\n",
    "df[\"Ingredient\"] = encoder.fit_transform(df[\"Ingredient\"])\n",
    "\n",
    "# Display first few rows\n",
    "print(df.head())\n",
    "\n"
   ]
  },
  {
   "cell_type": "markdown",
   "metadata": {
    "id": "odThgJpDgkxk"
   },
   "source": [
    "# Step 6: Train-Test Split"
   ]
  },
  {
   "cell_type": "code",
   "execution_count": 23,
   "metadata": {
    "id": "tsLAYn0yflwq"
   },
   "outputs": [
    {
     "name": "stdout",
     "output_type": "stream",
     "text": [
      "Training samples: 400, Testing samples: 100\n"
     ]
    }
   ],
   "source": [
    "from sklearn.model_selection import train_test_split\n",
    "\n",
    "# Define features and target variable\n",
    "X = df[['Stock_Available (kg/L)', 'Reorder_Level (kg/L)', 'Ingredient']]\n",
    "y = df['Purchase_Quantity (kg/L)']\n",
    "\n",
    "# Split dataset into training (80%) and testing (20%) sets\n",
    "X_train, X_test, y_train, y_test = train_test_split(X, y, test_size=0.2, random_state=42)\n",
    "\n",
    "# Display dataset sizes\n",
    "print(f\"Training samples: {len(X_train)}, Testing samples: {len(X_test)}\")\n"
   ]
  },
  {
   "cell_type": "markdown",
   "metadata": {
    "id": "BzDcpD90goI1"
   },
   "source": [
    "# Step 7: Train ML Model"
   ]
  },
  {
   "cell_type": "code",
   "execution_count": 24,
   "metadata": {
    "id": "KybINh6_fsFB"
   },
   "outputs": [
    {
     "name": "stdout",
     "output_type": "stream",
     "text": [
      "Predicted Purchase Quantities (Random Forest): [21.5137 21.4012 22.2363 17.9483 18.7958]\n"
     ]
    }
   ],
   "source": [
    "from sklearn.ensemble import RandomForestRegressor\n",
    "\n",
    "# Initialize the Random Forest model\n",
    "rf_model = RandomForestRegressor(n_estimators=100, random_state=42)\n",
    "\n",
    "# Train the model on training data\n",
    "rf_model.fit(X_train, y_train)\n",
    "\n",
    "# Predict on test data\n",
    "y_pred_rf = rf_model.predict(X_test)\n",
    "\n",
    "# Display first few predictions\n",
    "print(\"Predicted Purchase Quantities (Random Forest):\", y_pred_rf[:5])\n"
   ]
  },
  {
   "cell_type": "markdown",
   "metadata": {
    "id": "J7AsmsB8g09Z"
   },
   "source": [
    "# Step 8: Evaluate Model Performance"
   ]
  },
  {
   "cell_type": "code",
   "execution_count": 25,
   "metadata": {
    "id": "LicBArGKf3O4"
   },
   "outputs": [
    {
     "name": "stdout",
     "output_type": "stream",
     "text": [
      "Mean Absolute Error (MAE): 5.340280999999999\n",
      "Mean Squared Error (MSE): 40.0061723627\n",
      "R-squared (R2): -0.2595688892426513\n"
     ]
    }
   ],
   "source": [
    "from sklearn.metrics import mean_absolute_error, mean_squared_error, r2_score\n",
    "\n",
    "# Calculate error metrics\n",
    "mae_rf = mean_absolute_error(y_test, y_pred_rf)\n",
    "mse_rf = mean_squared_error(y_test, y_pred_rf)\n",
    "r2_rf = r2_score(y_test, y_pred_rf)\n",
    "\n",
    "print(\"Mean Absolute Error (MAE):\", mae_rf)\n",
    "print(\"Mean Squared Error (MSE):\", mse_rf)\n",
    "print(\"R-squared (R2):\", r2_rf)\n"
   ]
  },
  {
   "cell_type": "markdown",
   "metadata": {
    "id": "uwNA16jZg6V_"
   },
   "source": [
    "# Step 9: Save the Model for Web Integration"
   ]
  },
  {
   "cell_type": "code",
   "execution_count": 28,
   "metadata": {
    "id": "PClK_vmUhAHo"
   },
   "outputs": [
    {
     "name": "stdout",
     "output_type": "stream",
     "text": [
      "Random Forest Model saved successfully at: C:\\Users\\altaf\\Downloads\\pulao_inventory_rf_model.pkl\n"
     ]
    }
   ],
   "source": [
    "import joblib\n",
    "import os\n",
    "\n",
    "# Define a valid local path for saving the model\n",
    "save_path = r\"C:\\Users\\altaf\\Downloads\\pulao_inventory_rf_model.pkl\"  # Change if needed\n",
    "\n",
    "# Save trained Random Forest model\n",
    "joblib.dump(rf_model, save_path)\n",
    "\n",
    "print(f\"Random Forest Model saved successfully at: {save_path}\")\n"
   ]
  },
  {
   "cell_type": "code",
   "execution_count": 30,
   "metadata": {},
   "outputs": [
    {
     "name": "stdout",
     "output_type": "stream",
     "text": [
      "Collecting xgboost\n",
      "  Downloading xgboost-2.1.4-py3-none-win_amd64.whl.metadata (2.1 kB)\n",
      "Requirement already satisfied: numpy in c:\\users\\altaf\\appdata\\local\\programs\\python\\python311\\lib\\site-packages (from xgboost) (1.26.4)\n",
      "Requirement already satisfied: scipy in c:\\users\\altaf\\appdata\\local\\programs\\python\\python311\\lib\\site-packages (from xgboost) (1.15.2)\n",
      "Downloading xgboost-2.1.4-py3-none-win_amd64.whl (124.9 MB)\n",
      "   ---------------------------------------- 0.0/124.9 MB ? eta -:--:--\n",
      "   ---------------------------------------- 1.3/124.9 MB 8.4 MB/s eta 0:00:15\n",
      "   - -------------------------------------- 3.1/124.9 MB 8.8 MB/s eta 0:00:14\n",
      "   - -------------------------------------- 5.2/124.9 MB 8.8 MB/s eta 0:00:14\n",
      "   -- ------------------------------------- 6.3/124.9 MB 8.2 MB/s eta 0:00:15\n",
      "   -- ------------------------------------- 7.6/124.9 MB 7.8 MB/s eta 0:00:15\n",
      "   -- ------------------------------------- 8.9/124.9 MB 7.5 MB/s eta 0:00:16\n",
      "   --- ------------------------------------ 10.2/124.9 MB 7.2 MB/s eta 0:00:16\n",
      "   --- ------------------------------------ 11.5/124.9 MB 7.1 MB/s eta 0:00:16\n",
      "   ---- ----------------------------------- 12.8/124.9 MB 7.0 MB/s eta 0:00:17\n",
      "   ---- ----------------------------------- 14.4/124.9 MB 6.9 MB/s eta 0:00:16\n",
      "   ---- ----------------------------------- 15.2/124.9 MB 6.8 MB/s eta 0:00:17\n",
      "   ----- ---------------------------------- 16.8/124.9 MB 6.8 MB/s eta 0:00:16\n",
      "   ----- ---------------------------------- 18.1/124.9 MB 6.7 MB/s eta 0:00:16\n",
      "   ------ --------------------------------- 19.4/124.9 MB 6.7 MB/s eta 0:00:16\n",
      "   ------ --------------------------------- 20.7/124.9 MB 6.7 MB/s eta 0:00:16\n",
      "   ------- -------------------------------- 22.0/124.9 MB 6.6 MB/s eta 0:00:16\n",
      "   ------- -------------------------------- 23.3/124.9 MB 6.6 MB/s eta 0:00:16\n",
      "   ------- -------------------------------- 24.6/124.9 MB 6.6 MB/s eta 0:00:16\n",
      "   -------- ------------------------------- 26.0/124.9 MB 6.6 MB/s eta 0:00:16\n",
      "   -------- ------------------------------- 27.3/124.9 MB 6.5 MB/s eta 0:00:15\n",
      "   --------- ------------------------------ 28.6/124.9 MB 6.5 MB/s eta 0:00:15\n",
      "   --------- ------------------------------ 29.9/124.9 MB 6.5 MB/s eta 0:00:15\n",
      "   --------- ------------------------------ 31.2/124.9 MB 6.5 MB/s eta 0:00:15\n",
      "   ---------- ----------------------------- 32.5/124.9 MB 6.5 MB/s eta 0:00:15\n",
      "   ---------- ----------------------------- 33.8/124.9 MB 6.5 MB/s eta 0:00:15\n",
      "   ----------- ---------------------------- 35.1/124.9 MB 6.4 MB/s eta 0:00:14\n",
      "   ----------- ---------------------------- 36.4/124.9 MB 6.4 MB/s eta 0:00:14\n",
      "   ------------ --------------------------- 37.7/124.9 MB 6.4 MB/s eta 0:00:14\n",
      "   ------------ --------------------------- 39.1/124.9 MB 6.4 MB/s eta 0:00:14\n",
      "   ------------ --------------------------- 40.4/124.9 MB 6.4 MB/s eta 0:00:14\n",
      "   ------------- -------------------------- 41.7/124.9 MB 6.4 MB/s eta 0:00:13\n",
      "   ------------- -------------------------- 43.0/124.9 MB 6.4 MB/s eta 0:00:13\n",
      "   -------------- ------------------------- 44.3/124.9 MB 6.4 MB/s eta 0:00:13\n",
      "   -------------- ------------------------- 45.6/124.9 MB 6.4 MB/s eta 0:00:13\n",
      "   --------------- ------------------------ 46.9/124.9 MB 6.4 MB/s eta 0:00:13\n",
      "   --------------- ------------------------ 48.2/124.9 MB 6.4 MB/s eta 0:00:13\n",
      "   --------------- ------------------------ 49.5/124.9 MB 6.4 MB/s eta 0:00:12\n",
      "   ---------------- ----------------------- 50.9/124.9 MB 6.4 MB/s eta 0:00:12\n",
      "   ---------------- ----------------------- 52.2/124.9 MB 6.4 MB/s eta 0:00:12\n",
      "   ----------------- ---------------------- 53.2/124.9 MB 6.3 MB/s eta 0:00:12\n",
      "   ----------------- ---------------------- 54.8/124.9 MB 6.3 MB/s eta 0:00:12\n",
      "   ----------------- ---------------------- 56.1/124.9 MB 6.3 MB/s eta 0:00:11\n",
      "   ------------------ --------------------- 57.4/124.9 MB 6.3 MB/s eta 0:00:11\n",
      "   ------------------ --------------------- 58.7/124.9 MB 6.3 MB/s eta 0:00:11\n",
      "   ------------------- -------------------- 60.0/124.9 MB 6.3 MB/s eta 0:00:11\n",
      "   ------------------- -------------------- 61.1/124.9 MB 6.3 MB/s eta 0:00:11\n",
      "   ------------------- -------------------- 62.4/124.9 MB 6.3 MB/s eta 0:00:10\n",
      "   -------------------- ------------------- 63.4/124.9 MB 6.3 MB/s eta 0:00:10\n",
      "   -------------------- ------------------- 64.7/124.9 MB 6.3 MB/s eta 0:00:10\n",
      "   --------------------- ------------------ 66.3/124.9 MB 6.3 MB/s eta 0:00:10\n",
      "   --------------------- ------------------ 67.6/124.9 MB 6.3 MB/s eta 0:00:10\n",
      "   ---------------------- ----------------- 68.9/124.9 MB 6.3 MB/s eta 0:00:09\n",
      "   ---------------------- ----------------- 70.3/124.9 MB 6.3 MB/s eta 0:00:09\n",
      "   ---------------------- ----------------- 71.6/124.9 MB 6.3 MB/s eta 0:00:09\n",
      "   ----------------------- ---------------- 72.9/124.9 MB 6.3 MB/s eta 0:00:09\n",
      "   ----------------------- ---------------- 74.2/124.9 MB 6.3 MB/s eta 0:00:09\n",
      "   ------------------------ --------------- 75.5/124.9 MB 6.3 MB/s eta 0:00:08\n",
      "   ------------------------ --------------- 76.8/124.9 MB 6.3 MB/s eta 0:00:08\n",
      "   ------------------------- -------------- 78.1/124.9 MB 6.3 MB/s eta 0:00:08\n",
      "   ------------------------- -------------- 79.4/124.9 MB 6.3 MB/s eta 0:00:08\n",
      "   ------------------------- -------------- 80.7/124.9 MB 6.3 MB/s eta 0:00:08\n",
      "   -------------------------- ------------- 82.1/124.9 MB 6.3 MB/s eta 0:00:07\n",
      "   -------------------------- ------------- 83.4/124.9 MB 6.3 MB/s eta 0:00:07\n",
      "   -------------------------- ------------- 84.1/124.9 MB 6.3 MB/s eta 0:00:07\n",
      "   --------------------------- ------------ 85.7/124.9 MB 6.3 MB/s eta 0:00:07\n",
      "   --------------------------- ------------ 87.3/124.9 MB 6.3 MB/s eta 0:00:06\n",
      "   ---------------------------- ----------- 88.6/124.9 MB 6.3 MB/s eta 0:00:06\n",
      "   ---------------------------- ----------- 89.9/124.9 MB 6.3 MB/s eta 0:00:06\n",
      "   ---------------------------- ----------- 89.9/124.9 MB 6.3 MB/s eta 0:00:06\n",
      "   ----------------------------- ---------- 90.7/124.9 MB 6.2 MB/s eta 0:00:06\n",
      "   ----------------------------- ---------- 92.5/124.9 MB 6.2 MB/s eta 0:00:06\n",
      "   ----------------------------- ---------- 92.8/124.9 MB 6.2 MB/s eta 0:00:06\n",
      "   ------------------------------ --------- 94.9/124.9 MB 6.2 MB/s eta 0:00:05\n",
      "   ------------------------------- -------- 97.0/124.9 MB 6.2 MB/s eta 0:00:05\n",
      "   ------------------------------- -------- 98.3/124.9 MB 6.2 MB/s eta 0:00:05\n",
      "   ------------------------------- -------- 99.6/124.9 MB 6.2 MB/s eta 0:00:05\n",
      "   -------------------------------- ------- 100.9/124.9 MB 6.2 MB/s eta 0:00:04\n",
      "   -------------------------------- ------- 102.2/124.9 MB 6.2 MB/s eta 0:00:04\n",
      "   --------------------------------- ------ 103.5/124.9 MB 6.2 MB/s eta 0:00:04\n",
      "   --------------------------------- ------ 104.9/124.9 MB 6.2 MB/s eta 0:00:04\n",
      "   --------------------------------- ------ 106.2/124.9 MB 6.2 MB/s eta 0:00:04\n",
      "   ---------------------------------- ----- 107.5/124.9 MB 6.2 MB/s eta 0:00:03\n",
      "   ---------------------------------- ----- 108.8/124.9 MB 6.2 MB/s eta 0:00:03\n",
      "   ----------------------------------- ---- 110.1/124.9 MB 6.2 MB/s eta 0:00:03\n",
      "   ----------------------------------- ---- 111.4/124.9 MB 6.2 MB/s eta 0:00:03\n",
      "   ------------------------------------ --- 112.7/124.9 MB 6.2 MB/s eta 0:00:02\n",
      "   ------------------------------------ --- 114.0/124.9 MB 6.2 MB/s eta 0:00:02\n",
      "   ------------------------------------ --- 115.3/124.9 MB 6.2 MB/s eta 0:00:02\n",
      "   ------------------------------------- -- 116.7/124.9 MB 6.2 MB/s eta 0:00:02\n",
      "   ------------------------------------- -- 118.0/124.9 MB 6.2 MB/s eta 0:00:02\n",
      "   -------------------------------------- - 119.5/124.9 MB 6.2 MB/s eta 0:00:01\n",
      "   -------------------------------------- - 120.8/124.9 MB 6.2 MB/s eta 0:00:01\n",
      "   ---------------------------------------  122.2/124.9 MB 6.2 MB/s eta 0:00:01\n",
      "   ---------------------------------------  123.5/124.9 MB 6.2 MB/s eta 0:00:01\n",
      "   ---------------------------------------  124.3/124.9 MB 6.2 MB/s eta 0:00:01\n",
      "   ---------------------------------------  124.8/124.9 MB 6.2 MB/s eta 0:00:01\n",
      "   ---------------------------------------  124.8/124.9 MB 6.2 MB/s eta 0:00:01\n",
      "   ---------------------------------------- 124.9/124.9 MB 6.1 MB/s eta 0:00:00\n",
      "Installing collected packages: xgboost\n",
      "Successfully installed xgboost-2.1.4\n",
      "Note: you may need to restart the kernel to use updated packages.\n"
     ]
    },
    {
     "name": "stderr",
     "output_type": "stream",
     "text": [
      "DEPRECATION: Loading egg at c:\\users\\altaf\\appdata\\local\\programs\\python\\python311\\lib\\site-packages\\ninja-1.11.1.3-py3.11-win-amd64.egg is deprecated. pip 25.1 will enforce this behaviour change. A possible replacement is to use pip for package installation. Discussion can be found at https://github.com/pypa/pip/issues/12330\n"
     ]
    }
   ],
   "source": [
    "pip install xgboost"
   ]
  },
  {
   "cell_type": "code",
   "execution_count": 32,
   "metadata": {},
   "outputs": [
    {
     "name": "stdout",
     "output_type": "stream",
     "text": [
      "🔹 XGBoost Model Results:\n",
      "✅ Mean Absolute Error (MAE): 5.359012549209594\n",
      "✅ Mean Squared Error (MSE): 39.76016701085091\n",
      "✅ R-squared (R²): -0.2518235672216622\n"
     ]
    }
   ],
   "source": [
    "# Train XGBoost Model\n",
    "from xgboost import XGBRegressor\n",
    "from sklearn.metrics import mean_absolute_error, mean_squared_error, r2_score\n",
    "\n",
    "# Initialize XGBoost model\n",
    "xgb_model = XGBRegressor(n_estimators=100, learning_rate=0.1, max_depth=5, random_state=42)\n",
    "\n",
    "# Train the model\n",
    "xgb_model.fit(X_train, y_train)\n",
    "\n",
    "# Predict on test data\n",
    "y_pred_xgb = xgb_model.predict(X_test)\n",
    "\n",
    "# Evaluate the model\n",
    "mae_xgb = mean_absolute_error(y_test, y_pred_xgb)\n",
    "mse_xgb = mean_squared_error(y_test, y_pred_xgb)\n",
    "r2_xgb = r2_score(y_test, y_pred_xgb)\n",
    "\n",
    "print(\"🔹 XGBoost Model Results:\")\n",
    "print(f\"✅ Mean Absolute Error (MAE): {mae_xgb}\")\n",
    "print(f\"✅ Mean Squared Error (MSE): {mse_xgb}\")\n",
    "print(f\"✅ R-squared (R²): {r2_xgb}\")\n"
   ]
  },
  {
   "cell_type": "code",
   "execution_count": 33,
   "metadata": {},
   "outputs": [
    {
     "name": "stdout",
     "output_type": "stream",
     "text": [
      "✅ Best XGBoost Parameters: {'learning_rate': 0.01, 'max_depth': 3, 'n_estimators': 50}\n"
     ]
    }
   ],
   "source": [
    "from sklearn.model_selection import GridSearchCV\n",
    "\n",
    "# Define hyperparameter grid\n",
    "param_grid = {\n",
    "    'n_estimators': [50, 100, 200],\n",
    "    'max_depth': [3, 5, 7],\n",
    "    'learning_rate': [0.01, 0.1, 0.2]\n",
    "}\n",
    "\n",
    "grid_search = GridSearchCV(XGBRegressor(), param_grid, cv=5, scoring='r2', n_jobs=-1)\n",
    "grid_search.fit(X_train, y_train)\n",
    "\n",
    "best_xgb = grid_search.best_estimator_\n",
    "print(\"✅ Best XGBoost Parameters:\", grid_search.best_params_)\n"
   ]
  },
  {
   "cell_type": "code",
   "execution_count": 38,
   "metadata": {},
   "outputs": [
    {
     "name": "stdout",
     "output_type": "stream",
     "text": [
      "✅ XGBoost Model saved successfully at: C:\\Users\\altaf\\Downloads\\pulao_inventory_xgb_model.pkl\n"
     ]
    }
   ],
   "source": [
    "import joblib\n",
    "import os\n",
    "\n",
    "save_path = r\"C:\\Users\\altaf\\Downloads\\pulao_inventory_xgb_model.pkl\"\n",
    "joblib.dump(best_xgb, save_path)\n",
    "\n",
    "print(f\"✅ XGBoost Model saved successfully at: {save_path}\")\n"
   ]
  },
  {
   "cell_type": "code",
   "execution_count": 40,
   "metadata": {},
   "outputs": [
    {
     "name": "stdout",
     "output_type": "stream",
     "text": [
      "File exists: True\n"
     ]
    }
   ],
   "source": [
    "import os\n",
    "\n",
    "model_path = r\"C:\\Users\\altaf\\Downloads\\pulao_inventory_xgb_model.pkl\"\n",
    "print(\"File exists:\", os.path.exists(model_path))\n"
   ]
  },
  {
   "cell_type": "code",
   "execution_count": 42,
   "metadata": {},
   "outputs": [
    {
     "name": "stdout",
     "output_type": "stream",
     "text": [
      "   Rice  Water  Salt  Spices\n",
      "0     2      4     1     0.5\n",
      "Columns in new_data: Index(['Rice', 'Water', 'Salt', 'Spices'], dtype='object')\n"
     ]
    }
   ],
   "source": [
    "print(new_data.head())  \n",
    "print(\"Columns in new_data:\", new_data.columns)  \n"
   ]
  },
  {
   "cell_type": "code",
   "execution_count": 44,
   "metadata": {},
   "outputs": [
    {
     "name": "stdout",
     "output_type": "stream",
     "text": [
      "Expected Features: ['Stock_Available (kg/L)', 'Reorder_Level (kg/L)', 'Ingredient']\n"
     ]
    }
   ],
   "source": [
    "# Load trained model\n",
    "import joblib\n",
    "\n",
    "model_path = r\"C:\\Users\\altaf\\Downloads\\pulao_inventory_xgb_model.pkl\"\n",
    "model = joblib.load(model_path)\n",
    "\n",
    "# Get expected features\n",
    "expected_features = model.get_booster().feature_names  # For XGBoost models\n",
    "print(\"Expected Features:\", expected_features)\n"
   ]
  },
  {
   "cell_type": "code",
   "execution_count": 52,
   "metadata": {},
   "outputs": [
    {
     "name": "stdout",
     "output_type": "stream",
     "text": [
      "Predicted Value: 20.51516\n"
     ]
    }
   ],
   "source": [
    "import pandas as pd\n",
    "import joblib\n",
    "\n",
    "# Load trained model\n",
    "model_path = r\"C:\\Users\\altaf\\Downloads\\pulao_inventory_xgb_model.pkl\"\n",
    "model = joblib.load(model_path)\n",
    "\n",
    "# Ensure correct input values\n",
    "new_data_values = [[2, 4, \"Rice\"]]  # Ensure Ingredient is categorical\n",
    "\n",
    "# Create DataFrame with correct feature names\n",
    "new_data = pd.DataFrame(new_data_values, columns=['Stock_Available (kg/L)', 'Reorder_Level (kg/L)', 'Ingredient'])\n",
    "\n",
    "# Convert 'Ingredient' to categorical (Ensure same encoding as training)\n",
    "new_data['Ingredient'] = new_data['Ingredient'].astype('category')\n",
    "\n",
    "# Predict using the corrected input\n",
    "new_pred = model.predict(new_data)\n",
    "\n",
    "\n",
    "print(f\"Predicted Value: {new_pred[0]:.5f}\")\n",
    "\n",
    "\n"
   ]
  },
  {
   "cell_type": "code",
   "execution_count": 6,
   "metadata": {},
   "outputs": [
    {
     "name": "stdout",
     "output_type": "stream",
     "text": [
      "Model saved successfully as pulao_inventory_xgb_model.pkl\n"
     ]
    }
   ],
   "source": [
    "import joblib\n",
    "\n",
    "# Load the trained model\n",
    "model = joblib.load(r\"C:\\Users\\altaf\\Downloads\\pulao_inventory_xgb_model.pkl\")\n",
    "\n",
    "# Save it again\n",
    "model_filename = \"pulao_inventory_xgb_model.pkl\"\n",
    "joblib.dump(model, model_filename)\n",
    "\n",
    "print(f\"Model saved successfully as {model_filename}\")\n"
   ]
  },
  {
   "cell_type": "code",
   "execution_count": 7,
   "metadata": {},
   "outputs": [
    {
     "name": "stdout",
     "output_type": "stream",
     "text": [
      "Model loaded successfully!\n"
     ]
    }
   ],
   "source": [
    "import joblib\n",
    "\n",
    "# Load the trained model\n",
    "model = joblib.load(\"pulao_inventory_xgb_model.pkl\")\n",
    "print(\"Model loaded successfully!\")\n"
   ]
  }
 ],
 "metadata": {
  "colab": {
   "authorship_tag": "ABX9TyMadlDQg1jBozESLPNf5iAi",
   "private_outputs": true,
   "provenance": []
  },
  "kernelspec": {
   "display_name": "Python 3",
   "name": "python3"
  },
  "language_info": {
   "codemirror_mode": {
    "name": "ipython",
    "version": 3
   },
   "file_extension": ".py",
   "mimetype": "text/x-python",
   "name": "python",
   "nbconvert_exporter": "python",
   "pygments_lexer": "ipython3",
   "version": "3.11.0"
  }
 },
 "nbformat": 4,
 "nbformat_minor": 0
}
