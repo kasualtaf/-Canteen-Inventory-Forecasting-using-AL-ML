{
 "cells": [
  {
   "cell_type": "markdown",
   "metadata": {
    "id": "rJyCGL39f_3R"
   },
   "source": [
    "# Step 1: Set Up Google Colab"
   ]
  },
  {
   "cell_type": "code",
   "execution_count": null,
   "metadata": {
    "id": "WG642tlZejeU"
   },
   "outputs": [],
   "source": [
    "!pip install pandas scikit-learn matplotlib seaborn"
   ]
  },
  {
   "cell_type": "markdown",
   "metadata": {
    "id": "iAIU03hOgGNS"
   },
   "source": [
    "# Step 2: Upload & Load Dataset"
   ]
  },
  {
   "cell_type": "code",
   "execution_count": null,
   "metadata": {
    "id": "Iql-EinZew3I"
   },
   "outputs": [],
   "source": [
    "from google.colab import drive\n",
    "drive.mount('/content/drive')\n"
   ]
  },
  {
   "cell_type": "code",
   "execution_count": null,
   "metadata": {
    "id": "gn0iJsVWfKEp"
   },
   "outputs": [],
   "source": [
    "import pandas as pd\n",
    "\n",
    "# Define file path in Google Drive\n",
    "file_path = \"/content/drive/My Drive/pulao_ingredients_500.csv\"\n",
    "\n",
    "# Load dataset\n",
    "df = pd.read_csv(file_path)\n",
    "\n",
    "# Display first few rows\n",
    "print(df.head())\n"
   ]
  },
  {
   "cell_type": "markdown",
   "metadata": {
    "id": "W-WvotexgU15"
   },
   "source": [
    "# Step 3: Data Exploration & Preprocessing"
   ]
  },
  {
   "cell_type": "code",
   "execution_count": null,
   "metadata": {
    "id": "lAWHV9mqfO5I"
   },
   "outputs": [],
   "source": [
    "# Show dataset information\n",
    "print(df.info())\n",
    "\n",
    "# Check for missing values\n",
    "print(df.isnull().sum())\n",
    "\n",
    "# Check basic statistics\n",
    "print(df.describe())\n",
    "\n"
   ]
  },
  {
   "cell_type": "markdown",
   "metadata": {
    "id": "_pc_3cfVgaBG"
   },
   "source": [
    "# Step 4: Data Visualization"
   ]
  },
  {
   "cell_type": "code",
   "execution_count": null,
   "metadata": {
    "id": "6t6H0pw1fPzz"
   },
   "outputs": [],
   "source": [
    "import matplotlib.pyplot as plt\n",
    "import seaborn as sns\n",
    "\n",
    "plt.figure(figsize=(8, 5))\n",
    "sns.scatterplot(x=df[\"Stock_Available (kg/L)\"], y=df[\"Purchase_Quantity (kg/L)\"])\n",
    "plt.xlabel(\"Stock Available (kg/L)\")\n",
    "plt.ylabel(\"Purchase Quantity (kg/L)\")\n",
    "plt.title(\"Stock vs Purchase Quantity\")\n",
    "plt.show()\n"
   ]
  },
  {
   "cell_type": "markdown",
   "metadata": {
    "id": "W4eHj0I_ggTz"
   },
   "source": [
    "# Step 5: Prepare Data for ML Model"
   ]
  },
  {
   "cell_type": "code",
   "execution_count": null,
   "metadata": {
    "id": "uc8iSUyXfRsU"
   },
   "outputs": [],
   "source": [
    "from sklearn.preprocessing import LabelEncoder\n",
    "\n",
    "# Convert categorical column 'Ingredient' to numerical\n",
    "encoder = LabelEncoder()\n",
    "df[\"Ingredient\"] = encoder.fit_transform(df[\"Ingredient\"])\n",
    "\n",
    "# Display first few rows\n",
    "print(df.head())\n",
    "\n"
   ]
  },
  {
   "cell_type": "markdown",
   "metadata": {
    "id": "odThgJpDgkxk"
   },
   "source": [
    "# Step 6: Train-Test Split"
   ]
  },
  {
   "cell_type": "code",
   "execution_count": null,
   "metadata": {
    "id": "tsLAYn0yflwq"
   },
   "outputs": [],
   "source": [
    "from sklearn.model_selection import train_test_split\n",
    "\n",
    "# Define features and target variable\n",
    "X = df[['Stock_Available (kg/L)', 'Reorder_Level (kg/L)', 'Ingredient']]\n",
    "y = df['Purchase_Quantity (kg/L)']\n",
    "\n",
    "# Split dataset into training (80%) and testing (20%) sets\n",
    "X_train, X_test, y_train, y_test = train_test_split(X, y, test_size=0.2, random_state=42)\n",
    "\n",
    "# Display dataset sizes\n",
    "print(f\"Training samples: {len(X_train)}, Testing samples: {len(X_test)}\")\n"
   ]
  },
  {
   "cell_type": "markdown",
   "metadata": {
    "id": "BzDcpD90goI1"
   },
   "source": [
    "# Step 7: Train ML Model"
   ]
  },
  {
   "cell_type": "code",
   "execution_count": null,
   "metadata": {
    "id": "KybINh6_fsFB"
   },
   "outputs": [],
   "source": [
    "from sklearn.ensemble import RandomForestRegressor\n",
    "\n",
    "# Initialize the Random Forest model\n",
    "rf_model = RandomForestRegressor(n_estimators=100, random_state=42)\n",
    "\n",
    "# Train the model on training data\n",
    "rf_model.fit(X_train, y_train)\n",
    "\n",
    "# Predict on test data\n",
    "y_pred_rf = rf_model.predict(X_test)\n",
    "\n",
    "# Display first few predictions\n",
    "print(\"Predicted Purchase Quantities (Random Forest):\", y_pred_rf[:5])\n"
   ]
  },
  {
   "cell_type": "markdown",
   "metadata": {
    "id": "J7AsmsB8g09Z"
   },
   "source": [
    "# Step 8: Evaluate Model Performance"
   ]
  },
  {
   "cell_type": "code",
   "execution_count": null,
   "metadata": {
    "id": "LicBArGKf3O4"
   },
   "outputs": [],
   "source": [
    "# Calculate error metrics\n",
    "mae_rf = mean_absolute_error(y_test, y_pred_rf)\n",
    "mse_rf = mean_squared_error(y_test, y_pred_rf)\n",
    "r2_rf = r2_score(y_test, y_pred_rf)\n",
    "\n",
    "print(f\"Random Forest - Mean Absolute Error: {mae_rf}\")\n",
    "print(f\"Random Forest - Mean Squared Error: {mse_rf}\")\n",
    "print(f\"Random Forest - R² Score: {r2_rf}\")\n"
   ]
  },
  {
   "cell_type": "markdown",
   "metadata": {
    "id": "uwNA16jZg6V_"
   },
   "source": [
    "# Step 9: Save the Model for Web Integration"
   ]
  },
  {
   "cell_type": "code",
   "execution_count": null,
   "metadata": {
    "id": "PClK_vmUhAHo"
   },
   "outputs": [],
   "source": [
    "import joblib\n",
    "\n",
    "# Save trained Random Forest model\n",
    "rf_model_filename = \"/content/pulao_inventory_rf_model.pkl\"\n",
    "joblib.dump(rf_model, rf_model_filename)\n",
    "\n",
    "print(\"Random Forest Model saved successfully!\")\n"
   ]
  }
 ],
 "metadata": {
  "colab": {
   "authorship_tag": "ABX9TyMadlDQg1jBozESLPNf5iAi",
   "private_outputs": true,
   "provenance": []
  },
  "kernelspec": {
   "display_name": "Python 3",
   "name": "python3"
  },
  "language_info": {
   "name": "python",
   "version": "3.11.0"
  }
 },
 "nbformat": 4,
 "nbformat_minor": 0
}
